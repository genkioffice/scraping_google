{
 "cells": [
  {
   "cell_type": "code",
   "execution_count": 3,
   "metadata": {
    "collapsed": false
   },
   "outputs": [],
   "source": [
    "import numpy as np\n",
    "import pandas as pd\n",
    "import random\n",
    "import time\n",
    "import os\n",
    "from gensim import corpora, matutils\n",
    "from gensim.models.doc2vec import Doc2Vec, TaggedDocument\n",
    "import MeCab\n",
    "import glob\n",
    "from matplotlib import pyplot as plt"
   ]
  },
  {
   "cell_type": "code",
   "execution_count": 6,
   "metadata": {
    "collapsed": false
   },
   "outputs": [],
   "source": [
    "# dictionary = corpora.Dictionary.load_from_text('')\n",
    "# tomake dictionary\n",
    "mecab = MeCab.Tagger('-d /usr/local/lib/mecab/dic/mecab-ipadic-neologd')\n",
    "\n",
    "def tokenize(text):\n",
    "    node = mecab.parseToNode(text)\n",
    "    while node:\n",
    "        if node.feature.split(',')[0] in ['名詞', '形容詞']:\n",
    "            yield node.surface.lower()\n",
    "        node = node.text\n",
    "        \n",
    "def get_words(contents):\n",
    "    ret = []\n",
    "    \n",
    "    for k, content in contents.items():\n",
    "        ret.append([token for token in tokenize(content)])\n",
    "    return ret\n",
    "\n",
    "# def get_words_main()\n",
    "\n",
    "def find_all_files(directory):\n",
    "    for root, dirs, files in os.walk(dictionary):\n",
    "        for file in files:\n",
    "            if not file.startswith('.'):\n",
    "                yield os.path.join(root, file)"
   ]
  },
  {
   "cell_type": "code",
   "execution_count": null,
   "metadata": {
    "collapsed": true
   },
   "outputs": [],
   "source": [
    "with open(file_name, 'a') as f:\n",
    "    f.read()"
   ]
  }
 ],
 "metadata": {
  "kernelspec": {
   "display_name": "Python 3",
   "language": "python",
   "name": "python3"
  },
  "language_info": {
   "codemirror_mode": {
    "name": "ipython",
    "version": 3
   },
   "file_extension": ".py",
   "mimetype": "text/x-python",
   "name": "python",
   "nbconvert_exporter": "python",
   "pygments_lexer": "ipython3",
   "version": "3.5.2"
  }
 },
 "nbformat": 4,
 "nbformat_minor": 2
}
